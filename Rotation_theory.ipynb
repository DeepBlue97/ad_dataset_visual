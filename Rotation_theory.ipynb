{
 "cells": [
  {
   "cell_type": "markdown",
   "id": "69d6cf2b",
   "metadata": {},
   "source": [
    "# 2D Rotation"
   ]
  },
  {
   "cell_type": "markdown",
   "id": "280ab68f",
   "metadata": {},
   "source": [
    "# 3D Rotation\n",
    "\n",
    "参考来源：[三维旋转：旋转矩阵，欧拉角，四元数](https://www.cnblogs.com/jins-note/p/9512728.html#:~:text=%E5%9C%A8%E6%97%8B%E8%BD%AC%E7%9F%A9%E9%98%B5%E4%B8%80%E8%8A%82%E4%B8%AD%EF%BC%8C%E6%9C%80%E5%85%88%E8%BF%9B%E8%A1%8C%E7%9A%84%E6%97%8B%E8%BD%AC%E5%85%B6%E7%9F%A9%E9%98%B5%E5%9C%A8%E6%9C%80%E5%8F%B3%E4%BE%A7%EF%BC%8C%E8%AF%B4%E6%98%8E%E8%AF%A5%E7%9F%A9%E9%98%B5%E6%9C%80%E5%85%88%E4%B8%8E%E7%82%B9%E7%9A%84%E9%BD%90%E6%AC%A1%E5%9D%90%E6%A0%87%E7%9B%B8%E4%B9%98%EF%BC%8C%E6%97%8B%E8%BD%AC%E7%9F%A9%E9%98%B5%E6%8C%89%E7%85%A7%E6%97%8B%E8%BD%AC%E7%9A%84%E6%AC%A1%E5%BA%8F%E4%BB%8E%E5%8F%B3%E5%90%91%E5%B7%A6%E6%8E%92%E5%88%97%E3%80%82,%E8%80%8C%E5%9C%A8%E6%AC%A7%E6%8B%89%E8%A7%92%E4%B8%AD%EF%BC%8C%E6%9C%80%E5%85%88%E8%BF%9B%E8%A1%8C%E7%9A%84%E6%97%8B%E8%BD%AC%E5%85%B6%E6%97%8B%E8%BD%AC%E7%9F%A9%E9%98%B5%E5%9C%A8%E6%9C%80%E5%B7%A6%E8%BE%B9%E3%80%82)。\n",
    "\n",
    "\n",
    "如何描述三维空间中刚体的旋转，是个有趣的问题。具体地说，就是刚体上的任意一个点P(x, y, z)围绕过原点的轴(i, j, k)旋转θ，求旋转后的点P'(x', y', z')。"
   ]
  },
  {
   "cell_type": "markdown",
   "id": "9ccfcec3",
   "metadata": {},
   "source": [
    "## 旋转矩阵 Rotation Matrix\n",
    "\n",
    "旋转矩阵乘以点P的齐次坐标，得到旋转后的点P'，因此旋转矩阵可以描述旋转，\n",
    "\n",
    "$$\n",
    "\\left[\n",
    "    \\begin{array}{cc|c}\n",
    "      x' \\\\\n",
    "      y' \\\\\n",
    "      z' \\\\\n",
    "      1\n",
    "    \\end{array}\n",
    "\\right] = R \\cdot \\left[\n",
    "    \\begin{array}{c}\n",
    "      x \\\\\n",
    "      y \\\\\n",
    "      z \\\\\n",
    "      1\n",
    "    \\end{array}\n",
    "\\right]\n",
    "$$\n",
    "\n",
    "绕x，y，或z轴旋转θ的矩阵为：\n",
    "\n",
    "$$\n",
    "R_x(\\theta) = \\left[\n",
    "    \\begin{array}{ccc}\n",
    "      1 & 0 & 0 \\\\\n",
    "      0 & cos\\theta & -sin\\theta \\\\\n",
    "      0 & sin\\theta & cos\\theta \\\\\n",
    "    \\end{array}\n",
    "\\right]\n",
    "$$\n",
    "\n",
    "$$\n",
    "R_y(\\theta) = \\left[\n",
    "    \\begin{array}{ccc}\n",
    "      cos\\theta & 0 & sin\\theta \\\\\n",
    "      0 & 1 & 0 \\\\\n",
    "      -sin\\theta & 0 & cos\\theta \\\\\n",
    "    \\end{array}\n",
    "\\right]\n",
    "$$\n",
    "\n",
    "$$\n",
    "R_z(\\theta) = \\left[\n",
    "    \\begin{array}{ccc}\n",
    "      cos\\theta & -sin\\theta & 0 \\\\\n",
    "      sin\\theta & cos\\theta & 0 \\\\\n",
    "      0 & 0 & 1 \\\\\n",
    "    \\end{array}\n",
    "\\right]\n",
    "$$\n",
    "\n",
    "所以，绕任意轴旋转的矩阵为\n",
    "\n",
    "$$\n",
    "R_x(-p)\\cdot R_y(-q)\\cdot R_z(\\theta)\\cdot R_y(q)\\cdot R_x(p)\n",
    "$$\n",
    "\n",
    "这表示：\n",
    "\n",
    "1. 绕x轴旋转角度p使指定的旋转轴在xz平面上\n",
    "2. 绕y轴旋转角度q使指定的旋转轴与z轴重合\n",
    "3. 绕z轴旋转角度θ\n",
    "4. 绕y轴旋转角度-q\n",
    "5. 绕x轴旋转角度-p\n",
    "\n",
    "其中，p和q的值需要用i,j,k计算出来。"
   ]
  },
  {
   "cell_type": "markdown",
   "id": "9ae6a01b",
   "metadata": {},
   "source": [
    "## 问题求解\n",
    "\n",
    "问：求从车体到前置摄像头坐标系旋转，相机的俯仰角：已知绕车体z轴旋转-90°，车体x轴旋转0°，则绕车体y轴需旋转多少度？\n",
    "\n",
    "解题思路：根据四元数得到（复合）旋转矩阵，根据已固定量分别写出z轴和x轴旋转矩阵，再求出y轴的旋转矩阵。"
   ]
  },
  {
   "cell_type": "code",
   "execution_count": 1,
   "id": "200dd79e",
   "metadata": {},
   "outputs": [
    {
     "name": "stdout",
     "output_type": "stream",
     "text": [
      "Q_CAM_BACK_LEFT\n",
      "[[ 0.94776036  0.00866572 -0.31886551]\n",
      " [ 0.31896113 -0.0139763   0.94766474]\n",
      " [ 0.00375564 -0.99986478 -0.01601021]]\n",
      "Q_CAM_BACK_RIGHT\n",
      "[[-0.93477554  0.01587584 -0.35488399]\n",
      " [ 0.35507456  0.0113705  -0.93476883]\n",
      " [-0.01080503 -0.99980932 -0.01626597]]\n",
      "Q_CAM_FRONT_LEFT\n",
      "[[ 8.20758348e-01 -3.41436671e-04  5.71275430e-01]\n",
      " [-5.71271601e-01  3.21950185e-03  8.20754770e-01]\n",
      " [-2.11945808e-03 -9.99994759e-01  2.44737995e-03]]\n",
      "Q_CAM_BACK\n",
      "[[ 0.00242171 -0.01675361 -0.99985672]\n",
      " [ 0.99998907 -0.00395911  0.00248837]\n",
      " [-0.00400023 -0.99985181  0.01674384]]\n",
      "Q_CAM_FRONT_RIGHT\n",
      "[[-8.32929563e-01 -9.94603768e-06  5.53379023e-01]\n",
      " [-5.53304927e-01  1.63788158e-02 -8.32817742e-01]\n",
      " [-9.05540984e-03 -9.99865858e-01 -1.36479031e-02]]\n",
      "Q_CAM_FRONT\n",
      "[[ 5.68477868e-03 -5.63666773e-03  9.99967955e-01]\n",
      " [-9.99983517e-01 -8.37115272e-04  5.68014846e-03]\n",
      " [ 8.05071338e-04 -9.99983763e-01 -5.64133364e-03]]\n",
      "Q_LIDAR_TOP\n",
      "[[ 0.00203327  0.99970406  0.02424172]\n",
      " [-0.99998053  0.00217566 -0.00584864]\n",
      " [-0.00589965 -0.02422936  0.99968902]]\n"
     ]
    }
   ],
   "source": [
    "Q_CAM_BACK_LEFT = [0.6924185592174665, -0.7031619420114925, -0.11648342771943819, 0.11203317912370753]\n",
    "Q_CAM_BACK_RIGHT = [0.12280980120078765, -0.132400842670559, -0.7004305821388234, 0.690496031265798]\n",
    "Q_CAM_FRONT_LEFT = [0.6757265034669446, -0.6736266522251881, 0.21214015046209478, -0.21122827103904068]\n",
    "Q_CAM_BACK = [0.5037872666382278, -0.49740249788611096, -0.4941850223835201, 0.5045496097725578]\n",
    "Q_CAM_FRONT_RIGHT = [0.2060347966337182, -0.2026940577919598, 0.6824507824531167, -0.6713610884174485]\n",
    "Q_CAM_FRONT = [0.4998015430569128, -0.5030316162024876, 0.4997798114386805, -0.49737083824542755]\n",
    "Q_LIDAR_TOP = [0.7077955119163518, -0.006492242056004365, 0.010646214713995808, -0.7063073142877817]\n",
    "\n",
    "Qs = {\n",
    "    'Q_CAM_BACK_LEFT': Q_CAM_BACK_LEFT, \n",
    "    'Q_CAM_BACK_RIGHT': Q_CAM_BACK_RIGHT,\n",
    "    'Q_CAM_FRONT_LEFT': Q_CAM_FRONT_LEFT, \n",
    "    'Q_CAM_BACK': Q_CAM_BACK, \n",
    "    'Q_CAM_FRONT_RIGHT': Q_CAM_FRONT_RIGHT, \n",
    "    'Q_CAM_FRONT': Q_CAM_FRONT,\n",
    "    'Q_LIDAR_TOP': Q_LIDAR_TOP,\n",
    "}\n",
    "\n",
    "from pyquaternion import Quaternion\n",
    "\n",
    "Q_matrix = {}\n",
    "\n",
    "for cam in Qs:\n",
    "    quaternion = Quaternion(Qs[cam])#.inverse\n",
    "    print(cam)\n",
    "    Q_matrix[cam] = quaternion.rotation_matrix\n",
    "    print(quaternion.rotation_matrix)\n",
    "#     dst, jacobian = cv2.Rodrigues(quaternion.rotation_matrix)"
   ]
  },
  {
   "cell_type": "code",
   "execution_count": 2,
   "id": "fbab6bbf",
   "metadata": {},
   "outputs": [],
   "source": [
    "import numpy as np\n",
    "\n",
    "def get_rx_matrix(theta: float):\n",
    "    \"\"\"根据弧度获得x轴旋转矩阵\n",
    "    theta: 弧度\n",
    "    return: np.array 3x3\n",
    "    \"\"\"\n",
    "    return np.array([\n",
    "        [1,0,0],\n",
    "        [0,np.cos(theta), -np.sin(theta)],\n",
    "        [0,np.sin(theta), np.cos(theta)],\n",
    "    ])\n",
    "\n",
    "def get_ry_matrix(theta: float):\n",
    "    \"\"\"根据弧度获得y轴旋转矩阵\n",
    "    theta: 弧度\n",
    "    return: np.array 3x3\n",
    "    \"\"\"\n",
    "    return np.array([\n",
    "        [np.cos(theta),0,np.sin(theta)],\n",
    "        [0,1, 0],\n",
    "        [-np.sin(theta), 0, np.cos(theta)],\n",
    "    ])\n",
    "\n",
    "def get_rz_matrix(theta: float):\n",
    "    \"\"\"根据弧度获得z轴旋转矩阵\n",
    "    theta: 弧度\n",
    "    return: np.array 3x3\n",
    "    \"\"\"\n",
    "    return np.array([\n",
    "        [np.cos(theta), -np.sin(theta),0],\n",
    "        [np.sin(theta), np.cos(theta),0],\n",
    "        [0,0,1],\n",
    "    ])\n",
    "\n"
   ]
  },
  {
   "cell_type": "markdown",
   "id": "7481920c",
   "metadata": {},
   "source": [
    "### 先拿简单的只需旋转90°的Q_LIDAR_TOP试验一下求某个轴的旋转矩阵（或旋转角度）"
   ]
  },
  {
   "cell_type": "code",
   "execution_count": 3,
   "id": "e18204df",
   "metadata": {},
   "outputs": [
    {
     "data": {
      "text/plain": [
       "(array([[ 1.,  0.,  0.],\n",
       "        [ 0.,  1., -0.],\n",
       "        [ 0.,  0.,  1.]]),\n",
       " array([[ 1.,  0.,  0.],\n",
       "        [ 0.,  1.,  0.],\n",
       "        [-0.,  0.,  1.]]),\n",
       " array([[ 6.123234e-17,  1.000000e+00,  0.000000e+00],\n",
       "        [-1.000000e+00,  6.123234e-17,  0.000000e+00],\n",
       "        [ 0.000000e+00,  0.000000e+00,  1.000000e+00]]))"
      ]
     },
     "execution_count": 3,
     "metadata": {},
     "output_type": "execute_result"
    }
   ],
   "source": [
    "Q_LIDAR_TOP_Rx = get_rx_matrix(0)\n",
    "Q_LIDAR_TOP_Ry = get_ry_matrix(0)\n",
    "Q_LIDAR_TOP_Rz = get_rz_matrix(-90/180*np.pi) # 这里按照车体坐标系朝相机坐标系演变为前进方向\n",
    "Q_LIDAR_TOP_Rx, Q_LIDAR_TOP_Ry, Q_LIDAR_TOP_Rz"
   ]
  },
  {
   "cell_type": "code",
   "execution_count": 4,
   "id": "cfed0350",
   "metadata": {},
   "outputs": [
    {
     "data": {
      "text/plain": [
       "array([[ 6.123234e-17,  1.000000e+00,  0.000000e+00],\n",
       "       [-1.000000e+00,  6.123234e-17,  0.000000e+00],\n",
       "       [ 0.000000e+00,  0.000000e+00,  1.000000e+00]])"
      ]
     },
     "execution_count": 4,
     "metadata": {},
     "output_type": "execute_result"
    }
   ],
   "source": [
    "# 看看自己的旋转矩阵\n",
    "Q_LIDAR_TOP_Rx.dot(Q_LIDAR_TOP_Ry).dot(Q_LIDAR_TOP_Rz)"
   ]
  },
  {
   "cell_type": "code",
   "execution_count": 5,
   "id": "aa22cecb",
   "metadata": {},
   "outputs": [
    {
     "data": {
      "text/plain": [
       "array([[ 0.00203327,  0.99970406,  0.02424172],\n",
       "       [-0.99998053,  0.00217566, -0.00584864],\n",
       "       [-0.00589965, -0.02422936,  0.99968902]])"
      ]
     },
     "execution_count": 5,
     "metadata": {},
     "output_type": "execute_result"
    }
   ],
   "source": [
    "# 看看四元数转换来的旋转矩阵\n",
    "Q_matrix['Q_LIDAR_TOP']"
   ]
  },
  {
   "cell_type": "code",
   "execution_count": 6,
   "id": "f6fd0204",
   "metadata": {},
   "outputs": [
    {
     "data": {
      "text/plain": [
       "array([[ 0.00203327, -0.99998053, -0.00589965],\n",
       "       [ 0.99970406,  0.00217566, -0.02422936],\n",
       "       [ 0.02424172, -0.00584864,  0.99968902]])"
      ]
     },
     "execution_count": 6,
     "metadata": {},
     "output_type": "execute_result"
    }
   ],
   "source": [
    "# 四元数转换来的旋转矩阵 求逆\n",
    "np.linalg.inv(Q_matrix['Q_LIDAR_TOP'])"
   ]
  },
  {
   "cell_type": "code",
   "execution_count": 9,
   "id": "a9f7e9da",
   "metadata": {},
   "outputs": [
    {
     "data": {
      "text/plain": [
       "array([[ 0.00203327,  0.99970406,  0.02424172],\n",
       "       [-0.99998053,  0.00217566, -0.00584864],\n",
       "       [-0.00589965, -0.02422936,  0.99968902]])"
      ]
     },
     "execution_count": 9,
     "metadata": {},
     "output_type": "execute_result"
    }
   ],
   "source": [
    "# 根据”矩阵除法“求Q_LIDAR_TOP_Rz：通过Rx和Ry左乘旋转矩阵的逆矩阵得到\n",
    "# A/B，则等于A * (B的逆矩阵)\n",
    "Q_matrix['Q_LIDAR_TOP'].dot(np.linalg.inv(Q_LIDAR_TOP_Rx.dot(Q_LIDAR_TOP_Ry)))"
   ]
  },
  {
   "cell_type": "code",
   "execution_count": 18,
   "id": "7e3e3830",
   "metadata": {},
   "outputs": [
    {
     "data": {
      "text/plain": [
       "array([[ 6.123234e-17,  1.000000e+00,  0.000000e+00],\n",
       "       [-1.000000e+00,  6.123234e-17,  0.000000e+00],\n",
       "       [ 0.000000e+00,  0.000000e+00,  1.000000e+00]])"
      ]
     },
     "execution_count": 18,
     "metadata": {},
     "output_type": "execute_result"
    }
   ],
   "source": [
    "# 猜测的Rz\n",
    "Q_LIDAR_TOP_Rz"
   ]
  },
  {
   "cell_type": "markdown",
   "id": "ec3b7554",
   "metadata": {},
   "source": [
    "#### 结论：可以发现，求出的z轴旋转矩阵Rz和预想的一致"
   ]
  },
  {
   "cell_type": "markdown",
   "id": "2fdb9b94",
   "metadata": {},
   "source": [
    "### 求正前方相机的俯仰角"
   ]
  },
  {
   "cell_type": "code",
   "execution_count": 30,
   "id": "3e7018d8",
   "metadata": {},
   "outputs": [
    {
     "data": {
      "text/plain": [
       "(array([[ 1.,  0.,  0.],\n",
       "        [ 0.,  1., -0.],\n",
       "        [ 0.,  0.,  1.]]),\n",
       " array([[ 6.123234e-17,  0.000000e+00,  1.000000e+00],\n",
       "        [ 0.000000e+00,  1.000000e+00,  0.000000e+00],\n",
       "        [-1.000000e+00,  0.000000e+00,  6.123234e-17]]),\n",
       " array([[ 6.123234e-17,  1.000000e+00,  0.000000e+00],\n",
       "        [-1.000000e+00,  6.123234e-17,  0.000000e+00],\n",
       "        [ 0.000000e+00,  0.000000e+00,  1.000000e+00]]))"
      ]
     },
     "execution_count": 30,
     "metadata": {},
     "output_type": "execute_result"
    }
   ],
   "source": [
    "Q_CAM_FRONT_Rx = get_rx_matrix(0)\n",
    "Q_CAM_FRONT_Ry = get_ry_matrix(90/180*np.pi) # 猜想值，待验证的值\n",
    "Q_CAM_FRONT_Rz = get_rz_matrix(-90/180*np.pi)\n",
    "Q_CAM_FRONT_Rx, Q_CAM_FRONT_Ry, Q_CAM_FRONT_Rz"
   ]
  },
  {
   "cell_type": "code",
   "execution_count": 31,
   "id": "d87ce0d5",
   "metadata": {},
   "outputs": [
    {
     "data": {
      "text/plain": [
       "array([[ 3.74939946e-33,  6.12323400e-17,  1.00000000e+00],\n",
       "       [-1.00000000e+00,  6.12323400e-17,  0.00000000e+00],\n",
       "       [-6.12323400e-17, -1.00000000e+00,  6.12323400e-17]])"
      ]
     },
     "execution_count": 31,
     "metadata": {},
     "output_type": "execute_result"
    }
   ],
   "source": [
    "# 看看自己的旋转矩阵\n",
    "Q_CAM_FRONT_Rx.dot(Q_CAM_FRONT_Ry).dot(Q_CAM_FRONT_Rz)"
   ]
  },
  {
   "cell_type": "code",
   "execution_count": 32,
   "id": "ff54b484",
   "metadata": {},
   "outputs": [
    {
     "data": {
      "text/plain": [
       "array([[ 5.68477868e-03, -5.63666773e-03,  9.99967955e-01],\n",
       "       [-9.99983517e-01, -8.37115272e-04,  5.68014846e-03],\n",
       "       [ 8.05071338e-04, -9.99983763e-01, -5.64133364e-03]])"
      ]
     },
     "execution_count": 32,
     "metadata": {},
     "output_type": "execute_result"
    }
   ],
   "source": [
    "# 看看四元数转换来的旋转矩阵\n",
    "Q_matrix['Q_CAM_FRONT']"
   ]
  },
  {
   "cell_type": "code",
   "execution_count": 33,
   "id": "407e866e",
   "metadata": {},
   "outputs": [
    {
     "data": {
      "text/plain": [
       "array([[-5.63666773e-03, -5.68477868e-03,  9.99967955e-01],\n",
       "       [-8.37115272e-04,  9.99983517e-01,  5.68014846e-03],\n",
       "       [-9.99983763e-01, -8.05071338e-04, -5.64133364e-03]])"
      ]
     },
     "execution_count": 33,
     "metadata": {},
     "output_type": "execute_result"
    }
   ],
   "source": [
    "# 根据”矩阵除法“求Q_LIDAR_TOP_Ry：通过Rx和Rz左乘旋转矩阵的逆矩阵得到\n",
    "# A/B，则等于A * (B的逆矩阵)\n",
    "Q_CAM_FRONT_Ry_infered = Q_matrix['Q_CAM_FRONT'].dot(np.linalg.inv(Q_CAM_FRONT_Rx.dot(Q_CAM_FRONT_Rz)))\n",
    "Q_CAM_FRONT_Ry_infered"
   ]
  },
  {
   "cell_type": "code",
   "execution_count": 34,
   "id": "a0eb5a17",
   "metadata": {},
   "outputs": [
    {
     "data": {
      "text/plain": [
       "array([[ 6.123234e-17,  0.000000e+00,  1.000000e+00],\n",
       "       [ 0.000000e+00,  1.000000e+00,  0.000000e+00],\n",
       "       [-1.000000e+00,  0.000000e+00,  6.123234e-17]])"
      ]
     },
     "execution_count": 34,
     "metadata": {},
     "output_type": "execute_result"
    }
   ],
   "source": [
    "# 猜测的Ry\n",
    "Q_CAM_FRONT_Ry"
   ]
  },
  {
   "cell_type": "code",
   "execution_count": 64,
   "id": "745f3d2f",
   "metadata": {},
   "outputs": [
    {
     "data": {
      "text/plain": [
       "89.54131122701229"
      ]
     },
     "execution_count": 64,
     "metadata": {},
     "output_type": "execute_result"
    }
   ],
   "source": [
    "# 求绕y轴旋转角度\n",
    "np.arcsin(Q_CAM_FRONT_Ry_infered[0][2]) / np.pi * 180\n",
    "# 90度说明相机刚好立起来，没有略微俯视"
   ]
  },
  {
   "cell_type": "markdown",
   "id": "9ad48e7f",
   "metadata": {},
   "source": [
    "#### 结论：正前方相机摆放平行于水平面，而非轻微俯视"
   ]
  },
  {
   "cell_type": "markdown",
   "id": "b33a28f9",
   "metadata": {},
   "source": [
    "### 求左前方相机z轴旋转角度"
   ]
  },
  {
   "cell_type": "code",
   "execution_count": 43,
   "id": "31329134",
   "metadata": {},
   "outputs": [
    {
     "data": {
      "text/plain": [
       "(array([[ 1.000000e+00,  0.000000e+00,  0.000000e+00],\n",
       "        [ 0.000000e+00,  6.123234e-17,  1.000000e+00],\n",
       "        [ 0.000000e+00, -1.000000e+00,  6.123234e-17]]),\n",
       " array([[ 1.,  0.,  0.],\n",
       "        [ 0.,  1.,  0.],\n",
       "        [-0.,  0.,  1.]]))"
      ]
     },
     "execution_count": 43,
     "metadata": {},
     "output_type": "execute_result"
    }
   ],
   "source": [
    "Q_CAM_FRONT_LEFT_Rx = get_rx_matrix(-90/180*np.pi)\n",
    "Q_CAM_FRONT_LEFT_Ry = get_ry_matrix(0) # 自我假设值\n",
    "# Q_CAM_FRONT_LEFT_Rz = get_rz_matrix(-90/180*np.pi)\n",
    "Q_CAM_FRONT_LEFT_Rx, Q_CAM_FRONT_LEFT_Ry#, Q_CAM_FRONT_Rz"
   ]
  },
  {
   "cell_type": "code",
   "execution_count": 46,
   "id": "92885712",
   "metadata": {},
   "outputs": [
    {
     "data": {
      "text/plain": [
       "array([[ 8.20758348e-01,  5.71275430e-01,  3.41436671e-04],\n",
       "       [-5.71271601e-01,  8.20754770e-01, -3.21950185e-03],\n",
       "       [-2.11945808e-03,  2.44737995e-03,  9.99994759e-01]])"
      ]
     },
     "execution_count": 46,
     "metadata": {},
     "output_type": "execute_result"
    }
   ],
   "source": [
    "Q_CAM_FRONT_LEFT_Rz_infered = Q_matrix['Q_CAM_FRONT_LEFT'].dot(np.linalg.inv(Q_CAM_FRONT_LEFT_Rx.dot(Q_CAM_FRONT_LEFT_Ry)))\n",
    "Q_CAM_FRONT_LEFT_Rz_infered"
   ]
  },
  {
   "cell_type": "code",
   "execution_count": 51,
   "id": "5be6166f",
   "metadata": {},
   "outputs": [
    {
     "data": {
      "text/plain": [
       "-34.83921336321834"
      ]
     },
     "execution_count": 51,
     "metadata": {},
     "output_type": "execute_result"
    }
   ],
   "source": [
    "# 求旋转角度\n",
    "-np.arcsin(Q_CAM_FRONT_LEFT_Rz_infered[0][1]) / np.pi * 180"
   ]
  },
  {
   "cell_type": "code",
   "execution_count": 49,
   "id": "4b16e9e5",
   "metadata": {},
   "outputs": [
    {
     "data": {
      "text/plain": [
       "34.83922048603969"
      ]
     },
     "execution_count": 49,
     "metadata": {},
     "output_type": "execute_result"
    }
   ],
   "source": [
    "np.arccos(Q_CAM_FRONT_LEFT_Rz_infered[0][0]) / np.pi * 180"
   ]
  },
  {
   "cell_type": "markdown",
   "id": "bc2b8c7f",
   "metadata": {},
   "source": [
    "#### 结论：左前方相机绕z轴旋转-34°，与预期一致"
   ]
  },
  {
   "cell_type": "markdown",
   "id": "3480d124",
   "metadata": {},
   "source": [
    "### 旋转矩阵符合交换律吗"
   ]
  },
  {
   "cell_type": "code",
   "execution_count": 56,
   "id": "d519a116",
   "metadata": {},
   "outputs": [
    {
     "data": {
      "text/plain": [
       "(array([[ 1.,  0.,  0.],\n",
       "        [ 0.,  1., -0.],\n",
       "        [ 0.,  0.,  1.]]),\n",
       " array([[ 6.123234e-17,  0.000000e+00,  1.000000e+00],\n",
       "        [ 0.000000e+00,  1.000000e+00,  0.000000e+00],\n",
       "        [-1.000000e+00,  0.000000e+00,  6.123234e-17]]))"
      ]
     },
     "execution_count": 56,
     "metadata": {},
     "output_type": "execute_result"
    }
   ],
   "source": [
    "Q_CAM_FRONT_Rx, Q_CAM_FRONT_Ry"
   ]
  },
  {
   "cell_type": "code",
   "execution_count": 52,
   "id": "af5f752c",
   "metadata": {},
   "outputs": [
    {
     "data": {
      "text/plain": [
       "array([[ 6.123234e-17,  0.000000e+00,  1.000000e+00],\n",
       "       [ 0.000000e+00,  1.000000e+00,  0.000000e+00],\n",
       "       [-1.000000e+00,  0.000000e+00,  6.123234e-17]])"
      ]
     },
     "execution_count": 52,
     "metadata": {},
     "output_type": "execute_result"
    }
   ],
   "source": [
    "Q_CAM_FRONT_Rx.dot(Q_CAM_FRONT_Ry)"
   ]
  },
  {
   "cell_type": "code",
   "execution_count": 53,
   "id": "e98e17c3",
   "metadata": {},
   "outputs": [
    {
     "data": {
      "text/plain": [
       "array([[ 6.123234e-17,  0.000000e+00,  1.000000e+00],\n",
       "       [ 0.000000e+00,  1.000000e+00,  0.000000e+00],\n",
       "       [-1.000000e+00,  0.000000e+00,  6.123234e-17]])"
      ]
     },
     "execution_count": 53,
     "metadata": {},
     "output_type": "execute_result"
    }
   ],
   "source": [
    "Q_CAM_FRONT_Ry.dot(Q_CAM_FRONT_Rx)"
   ]
  },
  {
   "cell_type": "code",
   "execution_count": 54,
   "id": "f5d908e1",
   "metadata": {},
   "outputs": [
    {
     "data": {
      "text/plain": [
       "array([[1., 0., 0.],\n",
       "       [0., 1., 0.],\n",
       "       [0., 0., 1.]])"
      ]
     },
     "execution_count": 54,
     "metadata": {},
     "output_type": "execute_result"
    }
   ],
   "source": [
    "Q_CAM_FRONT_Rx + Q_CAM_FRONT_Ry - Q_CAM_FRONT_Ry.dot(Q_CAM_FRONT_Rx)"
   ]
  },
  {
   "cell_type": "markdown",
   "id": "d45bf081",
   "metadata": {},
   "source": [
    "#### 结论：因为Q_CAM_FRONT_Rx是单位矩阵，所以符合交换律"
   ]
  },
  {
   "cell_type": "code",
   "execution_count": 59,
   "id": "b029d82c",
   "metadata": {},
   "outputs": [
    {
     "data": {
      "text/plain": [
       "(array([[ 6.123234e-17,  0.000000e+00,  1.000000e+00],\n",
       "        [ 0.000000e+00,  1.000000e+00,  0.000000e+00],\n",
       "        [-1.000000e+00,  0.000000e+00,  6.123234e-17]]),\n",
       " array([[ 6.123234e-17,  1.000000e+00,  0.000000e+00],\n",
       "        [-1.000000e+00,  6.123234e-17,  0.000000e+00],\n",
       "        [ 0.000000e+00,  0.000000e+00,  1.000000e+00]]))"
      ]
     },
     "execution_count": 59,
     "metadata": {},
     "output_type": "execute_result"
    }
   ],
   "source": [
    "Q_CAM_FRONT_Ry = get_ry_matrix(90/180*np.pi) # 自我假设值\n",
    "Q_CAM_FRONT_Rz = get_rz_matrix(-90/180*np.pi)\n",
    "Q_CAM_FRONT_Ry, Q_CAM_FRONT_Rz"
   ]
  },
  {
   "cell_type": "code",
   "execution_count": 62,
   "id": "bd9a3fad",
   "metadata": {},
   "outputs": [
    {
     "data": {
      "text/plain": [
       "array([[ 0., -1.,  1.],\n",
       "       [-1.,  0.,  1.],\n",
       "       [ 1., -1.,  0.]])"
      ]
     },
     "execution_count": 62,
     "metadata": {},
     "output_type": "execute_result"
    }
   ],
   "source": [
    "Q_CAM_FRONT_Ry.dot(Q_CAM_FRONT_Rz) - Q_CAM_FRONT_Rz.dot(Q_CAM_FRONT_Ry)\n",
    "# 可通过矩阵初等变换为全0矩阵"
   ]
  },
  {
   "cell_type": "markdown",
   "id": "c2e56f9f",
   "metadata": {},
   "source": [
    "#### 结论：因为 Q_CAM_FRONT_Ry 和 Q_CAM_FRONT_Rz 的矩阵乘积可通过初等变换变为全0，所以符合交换律"
   ]
  },
  {
   "cell_type": "markdown",
   "id": "3e389879",
   "metadata": {},
   "source": [
    "#### 结论：从几何角度考虑，因为旋转矩阵始终是按固定坐标系（车体坐标系）的轴来进行旋转，所以先绕哪个轴旋转都一样，所以各轴旋转矩阵符合交换律"
   ]
  },
  {
   "attachments": {
    "image.png": {
     "image/png": "[encoded data removed]"
    }
   },
   "cell_type": "markdown",
   "id": "b99298d4",
   "metadata": {},
   "source": [
    "## 欧拉角 Euler angle\n",
    "\n",
    "欧拉角也可以描述三维刚体旋转，它将刚体绕过原点的轴(i,j,k)旋转θ，分解成三步（蓝色是起始坐标系，而红色的是旋转之后的坐标系。）。\n",
    "\n",
    "![image.png](attachment:image.png)\n",
    "\n",
    "1. 绕z轴旋转α，使x轴与N轴重合，N轴是旋转前后两个坐标系x-y平面的交线\n",
    "2. 绕x轴（也就是N轴）旋转β，使z轴与旋转后的z轴重合\n",
    "3. 绕z轴旋转γ，使坐标系与旋转后的完全重合\n",
    "\n",
    "按照旋转轴的顺序，该组欧拉角被称为是“zxz顺规”的。对于顺规的次序，学术界没有明确的约定。\n",
    "\n",
    "欧拉角的旋转矩阵为：\n",
    "\n",
    "$$\n",
    "R_z(\\alpha)\\cdot R_x(\\beta)\\cdot R_y(\\gamma)\n",
    "$$\n",
    "\n",
    "在旋转矩阵一节中，最先进行的旋转其矩阵在最右侧，说明该矩阵最先与点的齐次坐标相乘，旋转矩阵按照旋转的次序从右向左排列。而在欧拉角中，最先进行的旋转其旋转矩阵在最左边。这是因为，**对于前者（旋转矩阵），我们始终是以绝对参考系为参照来的，对于后者（欧拉角），我们每一次旋转的刻画都是基于刚体的坐标系。**比如，在欧拉角中的第2步，绕x轴旋转β，这里的x轴实际上是N轴了（而不是蓝色的x轴）。"
   ]
  },
  {
   "cell_type": "markdown",
   "id": "1533f6dd",
   "metadata": {},
   "source": [
    "## 四元数 Quaternion\n",
    "\n",
    "四元数是今天的主角，它能够很方便的刻画刚体绕任意轴的旋转。四元数是一种高阶复数，四元数q表示为：\n",
    "\n",
    "$$\n",
    "q = (x,y,z,w) = xi + yj + zk + w\n",
    "$$\n",
    "\n",
    "其中，i，j，k满足：\n",
    "\n",
    "$$\n",
    "i^2 = j^2 = k^2 = -1\n",
    "$$\n",
    "$$\n",
    "ij = k, jk=i, ki=j\n",
    "$$\n",
    "\n",
    "由于i，j，k的性质和笛卡尔坐标系三个轴叉乘的性质很像，所以可以将四元数写成一个向量和一个实数组合的形式：\n",
    "\n",
    "$$\n",
    "q = (\\vec{v}+w) = ((x,y,z),w)\n",
    "$$\n",
    "\n",
    "可以推导出四元数的一些运算性质，包括：\n",
    "\n",
    "* 四元数乘法\n",
    "\n",
    "$$\n",
    "q_1q_2 = (\\vec{v_1} \\times \\vec{v_2} + w_1\\vec{v_2} + w_2\\vec{v_1}, w_1w_2-\\vec{v_1} \\cdot \\vec{v_2} )\n",
    "$$\n",
    "\n",
    "* 共轭四元数\n",
    "\n",
    "* 四元数的平方模\n",
    "\n",
    "* 四元数的逆\n",
    "\n",
    "四元数可以看做是向量和实数的一种更加一般的形式，向量可以视作为实部为0的四元数，而实数可以是作为虚部为0的四元数。上述四元数的运算性质也是实数或向量的运算性质的更一般的形式。\n",
    "\n",
    "四元数可用来刻画三维空间中的旋转，绕单位向量(x,y,z)表示的轴旋转θ，可令：\n",
    "\n",
    "$$\n",
    "q = ((x,y,z)sin(\\frac {\\theta}{2}), cos(\\frac {\\theta}{2}))\n",
    "$$\n",
    "\n",
    "刚体坐标系中的点p(P,0)（写成四元数的形式），旋转后的坐标p'为：\n",
    "\n",
    "$$\n",
    "p' = qpq^{-1}\n",
    "$$"
   ]
  },
  {
   "cell_type": "markdown",
   "id": "7dfaeebc",
   "metadata": {},
   "source": [
    "## 验证项目\n",
    "\n",
    "- 在nuScenes数据集中，通过输入各个轴的旋转分量，来获得旋转矩阵，然后和从四元数转换得到的旋转矩阵进行对比"
   ]
  },
  {
   "cell_type": "code",
   "execution_count": null,
   "id": "012e5876",
   "metadata": {},
   "outputs": [],
   "source": []
  }
 ],
 "metadata": {
  "kernelspec": {
   "display_name": "Python 3 (ipykernel)",
   "language": "python",
   "name": "python3"
  },
  "language_info": {
   "codemirror_mode": {
    "name": "ipython",
    "version": 3
   },
   "file_extension": ".py",
   "mimetype": "text/x-python",
   "name": "python",
   "nbconvert_exporter": "python",
   "pygments_lexer": "ipython3",
   "version": "3.8.13"
  }
 },
 "nbformat": 4,
 "nbformat_minor": 5
}
